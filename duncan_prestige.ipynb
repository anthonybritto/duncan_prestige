{
 "cells": [
  {
   "cell_type": "markdown",
   "metadata": {},
   "source": [
    "# $p$-values for Standarised $\\beta$'s, partial correlation coefficient, and semi-partial correlation coefficient"
   ]
  },
  {
   "cell_type": "code",
   "execution_count": 2,
   "metadata": {},
   "outputs": [],
   "source": [
    "import statsmodels.api as sm\n",
    "import numpy as np\n",
    "import pandas as pd\n",
    "\n",
    "from pingouin import partial_corr"
   ]
  },
  {
   "cell_type": "markdown",
   "metadata": {},
   "source": [
    "Import `duncan_prestige` dataset:"
   ]
  },
  {
   "cell_type": "code",
   "execution_count": 10,
   "metadata": {},
   "outputs": [],
   "source": [
    "duncan_prestige = sm.datasets.get_rdataset(\"Duncan\", \"carData\").data.drop(\"type\", axis=1)\n",
    "\n",
    "# standardise Y and X\n",
    "Y = (duncan_prestige['income'] - duncan_prestige['income'].mean()) / duncan_prestige['income'].std()\n",
    "X = (duncan_prestige[['education', 'prestige']] - duncan_prestige[['education', 'prestige']].mean()) / duncan_prestige[['education', 'prestige']].std()\n",
    "\n",
    "# perform regression\n",
    "model = sm.OLS(Y,X)\n",
    "results = model.fit()"
   ]
  },
  {
   "cell_type": "code",
   "execution_count": 11,
   "metadata": {},
   "outputs": [
    {
     "data": {
      "text/html": [
       "<table class=\"simpletable\">\n",
       "<caption>OLS Regression Results</caption>\n",
       "<tr>\n",
       "  <th>Dep. Variable:</th>         <td>income</td>      <th>  R-squared (uncentered):</th>      <td>   0.702</td>\n",
       "</tr>\n",
       "<tr>\n",
       "  <th>Model:</th>                   <td>OLS</td>       <th>  Adj. R-squared (uncentered):</th> <td>   0.688</td>\n",
       "</tr>\n",
       "<tr>\n",
       "  <th>Method:</th>             <td>Least Squares</td>  <th>  F-statistic:       </th>          <td>   50.73</td>\n",
       "</tr>\n",
       "<tr>\n",
       "  <th>Date:</th>             <td>Fri, 28 May 2021</td> <th>  Prob (F-statistic):</th>          <td>4.84e-12</td>\n",
       "</tr>\n",
       "<tr>\n",
       "  <th>Time:</th>                 <td>14:09:05</td>     <th>  Log-Likelihood:    </th>          <td> -36.081</td>\n",
       "</tr>\n",
       "<tr>\n",
       "  <th>No. Observations:</th>      <td>    45</td>      <th>  AIC:               </th>          <td>   76.16</td>\n",
       "</tr>\n",
       "<tr>\n",
       "  <th>Df Residuals:</th>          <td>    43</td>      <th>  BIC:               </th>          <td>   79.78</td>\n",
       "</tr>\n",
       "<tr>\n",
       "  <th>Df Model:</th>              <td>     2</td>      <th>                     </th>              <td> </td>   \n",
       "</tr>\n",
       "<tr>\n",
       "  <th>Covariance Type:</th>      <td>nonrobust</td>    <th>                     </th>              <td> </td>   \n",
       "</tr>\n",
       "</table>\n",
       "<table class=\"simpletable\">\n",
       "<tr>\n",
       "      <td></td>         <th>coef</th>     <th>std err</th>      <th>t</th>      <th>P>|t|</th>  <th>[0.025</th>    <th>0.975]</th>  \n",
       "</tr>\n",
       "<tr>\n",
       "  <th>education</th> <td>    0.0393</td> <td>    0.159</td> <td>    0.247</td> <td> 0.806</td> <td>   -0.281</td> <td>    0.360</td>\n",
       "</tr>\n",
       "<tr>\n",
       "  <th>prestige</th>  <td>    0.8043</td> <td>    0.159</td> <td>    5.063</td> <td> 0.000</td> <td>    0.484</td> <td>    1.125</td>\n",
       "</tr>\n",
       "</table>\n",
       "<table class=\"simpletable\">\n",
       "<tr>\n",
       "  <th>Omnibus:</th>       <td> 9.200</td> <th>  Durbin-Watson:     </th> <td>   2.053</td>\n",
       "</tr>\n",
       "<tr>\n",
       "  <th>Prob(Omnibus):</th> <td> 0.010</td> <th>  Jarque-Bera (JB):  </th> <td>  21.265</td>\n",
       "</tr>\n",
       "<tr>\n",
       "  <th>Skew:</th>          <td> 0.075</td> <th>  Prob(JB):          </th> <td>2.41e-05</td>\n",
       "</tr>\n",
       "<tr>\n",
       "  <th>Kurtosis:</th>      <td> 6.364</td> <th>  Cond. No.          </th> <td>    3.54</td>\n",
       "</tr>\n",
       "</table><br/><br/>Notes:<br/>[1] R² is computed without centering (uncentered) since the model does not contain a constant.<br/>[2] Standard Errors assume that the covariance matrix of the errors is correctly specified."
      ],
      "text/plain": [
       "<class 'statsmodels.iolib.summary.Summary'>\n",
       "\"\"\"\n",
       "                                 OLS Regression Results                                \n",
       "=======================================================================================\n",
       "Dep. Variable:                 income   R-squared (uncentered):                   0.702\n",
       "Model:                            OLS   Adj. R-squared (uncentered):              0.688\n",
       "Method:                 Least Squares   F-statistic:                              50.73\n",
       "Date:                Fri, 28 May 2021   Prob (F-statistic):                    4.84e-12\n",
       "Time:                        14:09:05   Log-Likelihood:                         -36.081\n",
       "No. Observations:                  45   AIC:                                      76.16\n",
       "Df Residuals:                      43   BIC:                                      79.78\n",
       "Df Model:                           2                                                  \n",
       "Covariance Type:            nonrobust                                                  \n",
       "==============================================================================\n",
       "                 coef    std err          t      P>|t|      [0.025      0.975]\n",
       "------------------------------------------------------------------------------\n",
       "education      0.0393      0.159      0.247      0.806      -0.281       0.360\n",
       "prestige       0.8043      0.159      5.063      0.000       0.484       1.125\n",
       "==============================================================================\n",
       "Omnibus:                        9.200   Durbin-Watson:                   2.053\n",
       "Prob(Omnibus):                  0.010   Jarque-Bera (JB):               21.265\n",
       "Skew:                           0.075   Prob(JB):                     2.41e-05\n",
       "Kurtosis:                       6.364   Cond. No.                         3.54\n",
       "==============================================================================\n",
       "\n",
       "Notes:\n",
       "[1] R² is computed without centering (uncentered) since the model does not contain a constant.\n",
       "[2] Standard Errors assume that the covariance matrix of the errors is correctly specified.\n",
       "\"\"\""
      ]
     },
     "execution_count": 11,
     "metadata": {},
     "output_type": "execute_result"
    }
   ],
   "source": [
    "results.summary()"
   ]
  },
  {
   "cell_type": "markdown",
   "metadata": {},
   "source": [
    "Compute partial correlation coefficients:"
   ]
  },
  {
   "cell_type": "code",
   "execution_count": 15,
   "metadata": {},
   "outputs": [],
   "source": [
    "partial_corr_dict = {}\n",
    "\n",
    "for predictor in [\"education\", \"prestige\"]:\n",
    "    \n",
    "    partial_corr_dict[predictor] = partial_corr(data=duncan_prestige,\n",
    "                                                y=\"income\",\n",
    "                                                x=predictor,\n",
    "                                                covar=duncan_prestige.columns.drop([predictor, \"income\"]).to_list()\n",
    "                                                )[[\"r\", \"p-val\"]].reset_index().drop(\"index\", axis=1).values[0]\n",
    "    \n",
    "\n",
    "partial_corr_df = pd.DataFrame.from_dict(partial_corr_dict,\n",
    "                                         orient=\"index\",\n",
    "                                         columns=[\"r\", \"p_val\"]\n",
    "                                        ).sort_values(\n",
    "    \"r\", key=abs, ascending=False)"
   ]
  },
  {
   "cell_type": "code",
   "execution_count": 26,
   "metadata": {},
   "outputs": [
    {
     "data": {
      "text/html": [
       "<div>\n",
       "<style scoped>\n",
       "    .dataframe tbody tr th:only-of-type {\n",
       "        vertical-align: middle;\n",
       "    }\n",
       "\n",
       "    .dataframe tbody tr th {\n",
       "        vertical-align: top;\n",
       "    }\n",
       "\n",
       "    .dataframe thead th {\n",
       "        text-align: right;\n",
       "    }\n",
       "</style>\n",
       "<table border=\"1\" class=\"dataframe\">\n",
       "  <thead>\n",
       "    <tr style=\"text-align: right;\">\n",
       "      <th></th>\n",
       "      <th>r</th>\n",
       "      <th>p_val</th>\n",
       "    </tr>\n",
       "  </thead>\n",
       "  <tbody>\n",
       "    <tr>\n",
       "      <th>prestige</th>\n",
       "      <td>0.611101</td>\n",
       "      <td>0.000011</td>\n",
       "    </tr>\n",
       "    <tr>\n",
       "      <th>education</th>\n",
       "      <td>0.037690</td>\n",
       "      <td>0.808084</td>\n",
       "    </tr>\n",
       "  </tbody>\n",
       "</table>\n",
       "</div>"
      ],
      "text/plain": [
       "                  r     p_val\n",
       "prestige   0.611101  0.000011\n",
       "education  0.037690  0.808084"
      ]
     },
     "execution_count": 26,
     "metadata": {},
     "output_type": "execute_result"
    }
   ],
   "source": [
    "partial_corr_df"
   ]
  },
  {
   "cell_type": "markdown",
   "metadata": {},
   "source": [
    "We see that the $p$-values are similar (probably small calculation difference/numerical error) to the regression results above."
   ]
  },
  {
   "cell_type": "markdown",
   "metadata": {},
   "source": [
    "We now consider the semi-partial correlation coefficient:"
   ]
  },
  {
   "cell_type": "code",
   "execution_count": 29,
   "metadata": {},
   "outputs": [],
   "source": [
    "semi_partial_corr_dict = {}\n",
    "\n",
    "for predictor in [\"education\", \"prestige\"]:\n",
    "    \n",
    "    semi_partial_corr_dict[predictor] = partial_corr(data=duncan_prestige,\n",
    "                                                     y=\"income\",\n",
    "                                                     x=predictor,\n",
    "                                                     y_covar=duncan_prestige.columns.drop([predictor, \"income\"]).to_list()\n",
    "                                                     )[[\"r\", \"p-val\"]].reset_index().drop(\"index\", axis=1).values[0]\n",
    "    \n",
    "\n",
    "semi_partial_corr_df = pd.DataFrame.from_dict(semi_partial_corr_dict,\n",
    "                                              orient=\"index\",\n",
    "                                              columns=[\"r\", \"p_val\"]\n",
    "                                              ).sort_values(\n",
    "    \"r\", key=abs, ascending=False)"
   ]
  },
  {
   "cell_type": "code",
   "execution_count": 30,
   "metadata": {},
   "outputs": [
    {
     "data": {
      "text/html": [
       "<div>\n",
       "<style scoped>\n",
       "    .dataframe tbody tr th:only-of-type {\n",
       "        vertical-align: middle;\n",
       "    }\n",
       "\n",
       "    .dataframe tbody tr th {\n",
       "        vertical-align: top;\n",
       "    }\n",
       "\n",
       "    .dataframe thead th {\n",
       "        text-align: right;\n",
       "    }\n",
       "</style>\n",
       "<table border=\"1\" class=\"dataframe\">\n",
       "  <thead>\n",
       "    <tr style=\"text-align: right;\">\n",
       "      <th></th>\n",
       "      <th>r</th>\n",
       "      <th>p_val</th>\n",
       "    </tr>\n",
       "  </thead>\n",
       "  <tbody>\n",
       "    <tr>\n",
       "      <th>prestige</th>\n",
       "      <td>0.320021</td>\n",
       "      <td>0.034200</td>\n",
       "    </tr>\n",
       "    <tr>\n",
       "      <th>education</th>\n",
       "      <td>0.019738</td>\n",
       "      <td>0.898807</td>\n",
       "    </tr>\n",
       "  </tbody>\n",
       "</table>\n",
       "</div>"
      ],
      "text/plain": [
       "                  r     p_val\n",
       "prestige   0.320021  0.034200\n",
       "education  0.019738  0.898807"
      ]
     },
     "execution_count": 30,
     "metadata": {},
     "output_type": "execute_result"
    }
   ],
   "source": [
    "semi_partial_corr_df"
   ]
  },
  {
   "cell_type": "markdown",
   "metadata": {},
   "source": [
    "These are noticeably different (larger) than those seen in the OLS."
   ]
  }
 ],
 "metadata": {
  "kernelspec": {
   "display_name": "Python 3",
   "language": "python",
   "name": "python3"
  },
  "language_info": {
   "codemirror_mode": {
    "name": "ipython",
    "version": 3
   },
   "file_extension": ".py",
   "mimetype": "text/x-python",
   "name": "python",
   "nbconvert_exporter": "python",
   "pygments_lexer": "ipython3",
   "version": "3.7.3"
  },
  "toc": {
   "base_numbering": 1,
   "nav_menu": {},
   "number_sections": true,
   "sideBar": true,
   "skip_h1_title": false,
   "title_cell": "Table of Contents",
   "title_sidebar": "Contents",
   "toc_cell": false,
   "toc_position": {},
   "toc_section_display": true,
   "toc_window_display": false
  }
 },
 "nbformat": 4,
 "nbformat_minor": 4
}
